{
 "cells": [
  {
   "cell_type": "code",
   "execution_count": 2,
   "id": "efa5dd87-7abc-4902-bf7e-376fc7d5cb26",
   "metadata": {},
   "outputs": [],
   "source": [
    "## imports\n",
    "\n",
    "import requests\n",
    "import pandas as pd \n",
    "import matplotlib.pyplot as plt\n",
    "import json\n",
    "import time\n",
    "import numpy as np\n",
    "import seaborn as sns\n",
    "\n",
    "from sklearn.model_selection import train_test_split, GridSearchCV\n",
    "from sklearn.svm import SVC\n",
    "from sklearn.pipeline import Pipeline\n",
    "from sklearn.linear_model import LogisticRegression\n",
    "from sklearn.metrics import confusion_matrix, plot_confusion_matrix, accuracy_score\n",
    "from sklearn.ensemble import RandomForestClassifier, VotingClassifier\n",
    "from sklearn.compose import ColumnTransformer\n",
    "\n",
    "# Import CountVectorizer and TFIDFVectorizer from feature_extraction.text.\n",
    "from sklearn.feature_extraction.text import CountVectorizer, TfidfVectorizer,TfidfTransformer"
   ]
  },
  {
   "cell_type": "markdown",
   "id": "c61c1bb3-323f-4638-809e-ce30f4026bdc",
   "metadata": {},
   "source": [
    "### Generating Posts For First Subreddit"
   ]
  },
  {
   "cell_type": "code",
   "execution_count": 2,
   "id": "8b195bc4-0b48-4ae9-b8d5-16ee44c9e12c",
   "metadata": {},
   "outputs": [],
   "source": [
    "## creating a function to pull about 1500 posts\n",
    "\n",
    "def api_reddit(url, param, pulls, post_list):\n",
    "    for num in range(int(pulls)):\n",
    "        print(f\"Pulling data attempt number {num +1}\")\n",
    "        \n",
    "        res = requests.get(url, params = param)\n",
    "        \n",
    "        if res.status_code == 200:\n",
    "            data = res.json()\n",
    "            post_list.extend(data['data'])\n",
    "            \n",
    "            before = data['data'][99]['created_utc']\n",
    "            param['before'] = before\n",
    "            \n",
    "        else:\n",
    "            print(\"There has been an error. The code is: \", res.status_code)\n",
    "            break\n",
    "            \n",
    "        time.sleep(2)\n",
    "    return post_list\n",
    "            "
   ]
  },
  {
   "cell_type": "code",
   "execution_count": 3,
   "id": "f44fcc02-403c-4579-9c68-4fd1ef57476a",
   "metadata": {},
   "outputs": [],
   "source": [
    "param = {\n",
    "    'subreddit': 'PlantBasedDiet',\n",
    "    'size': 100,\n",
    "    'selftext:not': '[removed]'}\n",
    "\n",
    "url = 'https://api.pushshift.io/reddit/search/submission/'\n",
    "\n",
    "pulls = 45\n",
    "\n",
    "post_list = []"
   ]
  },
  {
   "cell_type": "code",
   "execution_count": 1,
   "id": "fe4b87a2-57f2-4499-a0b8-66dd960383e3",
   "metadata": {
    "scrolled": true,
    "tags": []
   },
   "outputs": [],
   "source": [
    "## calling the function\n",
    "## commenting this out because the output is long\n",
    "#api_reddit(url, param, pulls, post_list)"
   ]
  },
  {
   "cell_type": "code",
   "execution_count": 5,
   "id": "6b131300-653b-491e-a1d8-f8bb1da0e301",
   "metadata": {},
   "outputs": [
    {
     "data": {
      "text/plain": [
       "4500"
      ]
     },
     "execution_count": 5,
     "metadata": {},
     "output_type": "execute_result"
    }
   ],
   "source": [
    "len(post_list)"
   ]
  },
  {
   "cell_type": "code",
   "execution_count": 6,
   "id": "100f3d54-be6a-4003-96c5-0e9c7ce1b23b",
   "metadata": {},
   "outputs": [],
   "source": [
    "## creating a DF\n",
    "plant_based = pd.DataFrame(post_list)"
   ]
  },
  {
   "cell_type": "code",
   "execution_count": 7,
   "id": "8f92a188-0bfb-4e5a-8569-1e71d6165bde",
   "metadata": {},
   "outputs": [
    {
     "data": {
      "text/html": [
       "<div>\n",
       "<style scoped>\n",
       "    .dataframe tbody tr th:only-of-type {\n",
       "        vertical-align: middle;\n",
       "    }\n",
       "\n",
       "    .dataframe tbody tr th {\n",
       "        vertical-align: top;\n",
       "    }\n",
       "\n",
       "    .dataframe thead th {\n",
       "        text-align: right;\n",
       "    }\n",
       "</style>\n",
       "<table border=\"1\" class=\"dataframe\">\n",
       "  <thead>\n",
       "    <tr style=\"text-align: right;\">\n",
       "      <th></th>\n",
       "      <th>all_awardings</th>\n",
       "      <th>allow_live_comments</th>\n",
       "      <th>author</th>\n",
       "      <th>author_flair_css_class</th>\n",
       "      <th>author_flair_richtext</th>\n",
       "      <th>author_flair_text</th>\n",
       "      <th>author_flair_type</th>\n",
       "      <th>author_fullname</th>\n",
       "      <th>author_is_blocked</th>\n",
       "      <th>author_patreon_flair</th>\n",
       "      <th>...</th>\n",
       "      <th>gallery_data</th>\n",
       "      <th>is_gallery</th>\n",
       "      <th>media_metadata</th>\n",
       "      <th>author_flair_template_id</th>\n",
       "      <th>author_flair_text_color</th>\n",
       "      <th>poll_data</th>\n",
       "      <th>author_cakeday</th>\n",
       "      <th>author_flair_background_color</th>\n",
       "      <th>banned_by</th>\n",
       "      <th>edited</th>\n",
       "    </tr>\n",
       "  </thead>\n",
       "  <tbody>\n",
       "    <tr>\n",
       "      <th>0</th>\n",
       "      <td>[]</td>\n",
       "      <td>False</td>\n",
       "      <td>lebron2007</td>\n",
       "      <td>None</td>\n",
       "      <td>[]</td>\n",
       "      <td>None</td>\n",
       "      <td>text</td>\n",
       "      <td>t2_61wf7e0q</td>\n",
       "      <td>False</td>\n",
       "      <td>False</td>\n",
       "      <td>...</td>\n",
       "      <td>NaN</td>\n",
       "      <td>NaN</td>\n",
       "      <td>NaN</td>\n",
       "      <td>NaN</td>\n",
       "      <td>NaN</td>\n",
       "      <td>NaN</td>\n",
       "      <td>NaN</td>\n",
       "      <td>NaN</td>\n",
       "      <td>NaN</td>\n",
       "      <td>NaN</td>\n",
       "    </tr>\n",
       "    <tr>\n",
       "      <th>1</th>\n",
       "      <td>[]</td>\n",
       "      <td>False</td>\n",
       "      <td>leandrabrunet</td>\n",
       "      <td>None</td>\n",
       "      <td>[]</td>\n",
       "      <td>None</td>\n",
       "      <td>text</td>\n",
       "      <td>t2_eq1ng982</td>\n",
       "      <td>False</td>\n",
       "      <td>False</td>\n",
       "      <td>...</td>\n",
       "      <td>NaN</td>\n",
       "      <td>NaN</td>\n",
       "      <td>NaN</td>\n",
       "      <td>NaN</td>\n",
       "      <td>NaN</td>\n",
       "      <td>NaN</td>\n",
       "      <td>NaN</td>\n",
       "      <td>NaN</td>\n",
       "      <td>NaN</td>\n",
       "      <td>NaN</td>\n",
       "    </tr>\n",
       "    <tr>\n",
       "      <th>2</th>\n",
       "      <td>[]</td>\n",
       "      <td>False</td>\n",
       "      <td>slapstikred</td>\n",
       "      <td>None</td>\n",
       "      <td>[]</td>\n",
       "      <td>None</td>\n",
       "      <td>text</td>\n",
       "      <td>t2_4lhc43y1</td>\n",
       "      <td>False</td>\n",
       "      <td>False</td>\n",
       "      <td>...</td>\n",
       "      <td>NaN</td>\n",
       "      <td>NaN</td>\n",
       "      <td>NaN</td>\n",
       "      <td>NaN</td>\n",
       "      <td>NaN</td>\n",
       "      <td>NaN</td>\n",
       "      <td>NaN</td>\n",
       "      <td>NaN</td>\n",
       "      <td>NaN</td>\n",
       "      <td>NaN</td>\n",
       "    </tr>\n",
       "    <tr>\n",
       "      <th>3</th>\n",
       "      <td>[]</td>\n",
       "      <td>False</td>\n",
       "      <td>ilikemyface3</td>\n",
       "      <td>None</td>\n",
       "      <td>[]</td>\n",
       "      <td>None</td>\n",
       "      <td>text</td>\n",
       "      <td>t2_q720mj3</td>\n",
       "      <td>False</td>\n",
       "      <td>False</td>\n",
       "      <td>...</td>\n",
       "      <td>NaN</td>\n",
       "      <td>NaN</td>\n",
       "      <td>NaN</td>\n",
       "      <td>NaN</td>\n",
       "      <td>NaN</td>\n",
       "      <td>NaN</td>\n",
       "      <td>NaN</td>\n",
       "      <td>NaN</td>\n",
       "      <td>NaN</td>\n",
       "      <td>NaN</td>\n",
       "    </tr>\n",
       "    <tr>\n",
       "      <th>4</th>\n",
       "      <td>[]</td>\n",
       "      <td>False</td>\n",
       "      <td>REEEE-Normie</td>\n",
       "      <td>None</td>\n",
       "      <td>[]</td>\n",
       "      <td>None</td>\n",
       "      <td>text</td>\n",
       "      <td>t2_3irxg51l</td>\n",
       "      <td>False</td>\n",
       "      <td>False</td>\n",
       "      <td>...</td>\n",
       "      <td>NaN</td>\n",
       "      <td>NaN</td>\n",
       "      <td>NaN</td>\n",
       "      <td>NaN</td>\n",
       "      <td>NaN</td>\n",
       "      <td>NaN</td>\n",
       "      <td>NaN</td>\n",
       "      <td>NaN</td>\n",
       "      <td>NaN</td>\n",
       "      <td>NaN</td>\n",
       "    </tr>\n",
       "  </tbody>\n",
       "</table>\n",
       "<p>5 rows × 81 columns</p>\n",
       "</div>"
      ],
      "text/plain": [
       "  all_awardings  allow_live_comments         author author_flair_css_class  \\\n",
       "0            []                False     lebron2007                   None   \n",
       "1            []                False  leandrabrunet                   None   \n",
       "2            []                False    slapstikred                   None   \n",
       "3            []                False   ilikemyface3                   None   \n",
       "4            []                False   REEEE-Normie                   None   \n",
       "\n",
       "  author_flair_richtext author_flair_text author_flair_type author_fullname  \\\n",
       "0                    []              None              text     t2_61wf7e0q   \n",
       "1                    []              None              text     t2_eq1ng982   \n",
       "2                    []              None              text     t2_4lhc43y1   \n",
       "3                    []              None              text      t2_q720mj3   \n",
       "4                    []              None              text     t2_3irxg51l   \n",
       "\n",
       "  author_is_blocked author_patreon_flair  ... gallery_data is_gallery  \\\n",
       "0             False                False  ...          NaN        NaN   \n",
       "1             False                False  ...          NaN        NaN   \n",
       "2             False                False  ...          NaN        NaN   \n",
       "3             False                False  ...          NaN        NaN   \n",
       "4             False                False  ...          NaN        NaN   \n",
       "\n",
       "   media_metadata  author_flair_template_id  author_flair_text_color  \\\n",
       "0             NaN                       NaN                      NaN   \n",
       "1             NaN                       NaN                      NaN   \n",
       "2             NaN                       NaN                      NaN   \n",
       "3             NaN                       NaN                      NaN   \n",
       "4             NaN                       NaN                      NaN   \n",
       "\n",
       "  poll_data author_cakeday author_flair_background_color banned_by edited  \n",
       "0       NaN            NaN                           NaN       NaN    NaN  \n",
       "1       NaN            NaN                           NaN       NaN    NaN  \n",
       "2       NaN            NaN                           NaN       NaN    NaN  \n",
       "3       NaN            NaN                           NaN       NaN    NaN  \n",
       "4       NaN            NaN                           NaN       NaN    NaN  \n",
       "\n",
       "[5 rows x 81 columns]"
      ]
     },
     "execution_count": 7,
     "metadata": {},
     "output_type": "execute_result"
    }
   ],
   "source": [
    "## checking the DF\n",
    "plant_based.head()"
   ]
  },
  {
   "cell_type": "code",
   "execution_count": 8,
   "id": "b406ff53-0448-4bfb-be7f-a8059275cc26",
   "metadata": {},
   "outputs": [],
   "source": [
    "## creating a seperate dataframe with only the columns I need\n",
    "df_1 = plant_based[['id','subreddit', 'selftext', 'title']]"
   ]
  },
  {
   "cell_type": "code",
   "execution_count": 9,
   "id": "d3aeb4e8-5ad5-4783-b686-fa3e46235fb4",
   "metadata": {},
   "outputs": [
    {
     "data": {
      "text/plain": [
       "True     2847\n",
       "False    1653\n",
       "dtype: int64"
      ]
     },
     "execution_count": 9,
     "metadata": {},
     "output_type": "execute_result"
    }
   ],
   "source": [
    "df_1.duplicated(subset=['selftext']).value_counts()"
   ]
  },
  {
   "cell_type": "code",
   "execution_count": 10,
   "id": "62afbca5-5e44-41c7-9780-ed34d6347a99",
   "metadata": {},
   "outputs": [],
   "source": [
    "## dropping the duplicates based on selftext but keeping the last occurence of the duplicated row\n",
    "df_1 = df_1.drop_duplicates(subset=['selftext'], keep ='last')"
   ]
  },
  {
   "cell_type": "code",
   "execution_count": 11,
   "id": "c8b4d0e3-54fc-4f56-8cb7-d68ca4b429e6",
   "metadata": {},
   "outputs": [
    {
     "data": {
      "text/html": [
       "<div>\n",
       "<style scoped>\n",
       "    .dataframe tbody tr th:only-of-type {\n",
       "        vertical-align: middle;\n",
       "    }\n",
       "\n",
       "    .dataframe tbody tr th {\n",
       "        vertical-align: top;\n",
       "    }\n",
       "\n",
       "    .dataframe thead th {\n",
       "        text-align: right;\n",
       "    }\n",
       "</style>\n",
       "<table border=\"1\" class=\"dataframe\">\n",
       "  <thead>\n",
       "    <tr style=\"text-align: right;\">\n",
       "      <th></th>\n",
       "      <th>id</th>\n",
       "      <th>subreddit</th>\n",
       "      <th>selftext</th>\n",
       "      <th>title</th>\n",
       "    </tr>\n",
       "  </thead>\n",
       "  <tbody>\n",
       "    <tr>\n",
       "      <th>0</th>\n",
       "      <td>r67ky9</td>\n",
       "      <td>PlantBasedDiet</td>\n",
       "      <td>I am a 32 year old man and I keep trying to im...</td>\n",
       "      <td>How can I stay full on a plant based diet? Wit...</td>\n",
       "    </tr>\n",
       "    <tr>\n",
       "      <th>3</th>\n",
       "      <td>r5slcs</td>\n",
       "      <td>PlantBasedDiet</td>\n",
       "      <td>I'm looking to transition to a plant-based die...</td>\n",
       "      <td>How do you navigate around people that don't e...</td>\n",
       "    </tr>\n",
       "    <tr>\n",
       "      <th>5</th>\n",
       "      <td>r5o90n</td>\n",
       "      <td>PlantBasedDiet</td>\n",
       "      <td>I promised to myself to switch to a more whole...</td>\n",
       "      <td>Tips &amp;amp; Tricks for preparation/conservation...</td>\n",
       "    </tr>\n",
       "    <tr>\n",
       "      <th>6</th>\n",
       "      <td>r5ebza</td>\n",
       "      <td>PlantBasedDiet</td>\n",
       "      <td>I certainly don’t want to start any controvers...</td>\n",
       "      <td>Clearing up confusion about oil + recipe</td>\n",
       "    </tr>\n",
       "    <tr>\n",
       "      <th>8</th>\n",
       "      <td>r59uc9</td>\n",
       "      <td>PlantBasedDiet</td>\n",
       "      <td>I started a WFPB diet a month ago after I wa...</td>\n",
       "      <td>Ex - low carb in need of advice</td>\n",
       "    </tr>\n",
       "    <tr>\n",
       "      <th>...</th>\n",
       "      <td>...</td>\n",
       "      <td>...</td>\n",
       "      <td>...</td>\n",
       "      <td>...</td>\n",
       "    </tr>\n",
       "    <tr>\n",
       "      <th>4489</th>\n",
       "      <td>j59pbd</td>\n",
       "      <td>PlantBasedDiet</td>\n",
       "      <td>I’m a month in to eating plant based, and I ha...</td>\n",
       "      <td>Do you eat honey and yeast?</td>\n",
       "    </tr>\n",
       "    <tr>\n",
       "      <th>4490</th>\n",
       "      <td>j59ijr</td>\n",
       "      <td>PlantBasedDiet</td>\n",
       "      <td>hi has any one tried the cauliflower cheesecak...</td>\n",
       "      <td>cauliflower cheesecake</td>\n",
       "    </tr>\n",
       "    <tr>\n",
       "      <th>4494</th>\n",
       "      <td>j57cfe</td>\n",
       "      <td>PlantBasedDiet</td>\n",
       "      <td>Looking for a lunch that can stay in a car dur...</td>\n",
       "      <td>Looking for low-maintenance portable lunch</td>\n",
       "    </tr>\n",
       "    <tr>\n",
       "      <th>4498</th>\n",
       "      <td>j54cr0</td>\n",
       "      <td>PlantBasedDiet</td>\n",
       "      <td></td>\n",
       "      <td>Tomato sashimi</td>\n",
       "    </tr>\n",
       "    <tr>\n",
       "      <th>4499</th>\n",
       "      <td>j50a9t</td>\n",
       "      <td>PlantBasedDiet</td>\n",
       "      <td>I’ve been plant based going on four years now ...</td>\n",
       "      <td>Irish Sea moss gel Questions</td>\n",
       "    </tr>\n",
       "  </tbody>\n",
       "</table>\n",
       "<p>1653 rows × 4 columns</p>\n",
       "</div>"
      ],
      "text/plain": [
       "          id       subreddit  \\\n",
       "0     r67ky9  PlantBasedDiet   \n",
       "3     r5slcs  PlantBasedDiet   \n",
       "5     r5o90n  PlantBasedDiet   \n",
       "6     r5ebza  PlantBasedDiet   \n",
       "8     r59uc9  PlantBasedDiet   \n",
       "...      ...             ...   \n",
       "4489  j59pbd  PlantBasedDiet   \n",
       "4490  j59ijr  PlantBasedDiet   \n",
       "4494  j57cfe  PlantBasedDiet   \n",
       "4498  j54cr0  PlantBasedDiet   \n",
       "4499  j50a9t  PlantBasedDiet   \n",
       "\n",
       "                                               selftext  \\\n",
       "0     I am a 32 year old man and I keep trying to im...   \n",
       "3     I'm looking to transition to a plant-based die...   \n",
       "5     I promised to myself to switch to a more whole...   \n",
       "6     I certainly don’t want to start any controvers...   \n",
       "8       I started a WFPB diet a month ago after I wa...   \n",
       "...                                                 ...   \n",
       "4489  I’m a month in to eating plant based, and I ha...   \n",
       "4490  hi has any one tried the cauliflower cheesecak...   \n",
       "4494  Looking for a lunch that can stay in a car dur...   \n",
       "4498                                                      \n",
       "4499  I’ve been plant based going on four years now ...   \n",
       "\n",
       "                                                  title  \n",
       "0     How can I stay full on a plant based diet? Wit...  \n",
       "3     How do you navigate around people that don't e...  \n",
       "5     Tips &amp; Tricks for preparation/conservation...  \n",
       "6              Clearing up confusion about oil + recipe  \n",
       "8                       Ex - low carb in need of advice  \n",
       "...                                                 ...  \n",
       "4489                        Do you eat honey and yeast?  \n",
       "4490                             cauliflower cheesecake  \n",
       "4494         Looking for low-maintenance portable lunch  \n",
       "4498                                     Tomato sashimi  \n",
       "4499                       Irish Sea moss gel Questions  \n",
       "\n",
       "[1653 rows x 4 columns]"
      ]
     },
     "execution_count": 11,
     "metadata": {},
     "output_type": "execute_result"
    }
   ],
   "source": [
    "df_1"
   ]
  },
  {
   "cell_type": "code",
   "execution_count": 13,
   "id": "cbe401c1-ef49-4de9-98de-69a9b1332be9",
   "metadata": {},
   "outputs": [],
   "source": [
    "## saving the df_1 \n",
    "df_1.to_csv('plantbased_df')"
   ]
  },
  {
   "cell_type": "markdown",
   "id": "5c4c292e-7c89-45a6-81f1-37ed1b418887",
   "metadata": {},
   "source": [
    "### Generating Posts For Second Subreddit"
   ]
  },
  {
   "cell_type": "code",
   "execution_count": 27,
   "id": "abafa5c6-c19c-49a0-a6e2-60a07fed0173",
   "metadata": {},
   "outputs": [],
   "source": [
    "## creating a function to pull about 1500 posts\n",
    "\n",
    "def api_reddit(url, param, pulls, post_list):\n",
    "    for num in range(int(pulls)):\n",
    "        print(f\"Pulling data attempt number {num +1}\")\n",
    "        \n",
    "        res = requests.get(url, params = param)\n",
    "        \n",
    "        if res.status_code == 200:\n",
    "            data = res.json()\n",
    "            post_list.extend(data['data'])\n",
    "            \n",
    "            before = data['data'][98]['created_utc']\n",
    "            param['before'] = before\n",
    "            \n",
    "        else:\n",
    "            print(\"There has been an error. The code is: \", res.status_code)\n",
    "            break\n",
    "            \n",
    "        time.sleep(2)\n",
    "    return post_list"
   ]
  },
  {
   "cell_type": "code",
   "execution_count": 28,
   "id": "29d7cfe9-5bfd-43b9-bacb-c608eaad0f78",
   "metadata": {},
   "outputs": [],
   "source": [
    "param = {\n",
    "    'subreddit': 'nutrition',\n",
    "    'size': 100,\n",
    "    'selftext:not': '[removed]'}\n",
    "\n",
    "url = 'https://api.pushshift.io/reddit/search/submission/'\n",
    "\n",
    "pulls = 20\n",
    "\n",
    "post_list = []"
   ]
  },
  {
   "cell_type": "code",
   "execution_count": 2,
   "id": "c72668a7-c795-48c1-a131-abf22cf7fe57",
   "metadata": {
    "scrolled": true,
    "tags": []
   },
   "outputs": [],
   "source": [
    "## commenting this out because the output is long\n",
    "##api_reddit(url, param, pulls, post_list)"
   ]
  },
  {
   "cell_type": "code",
   "execution_count": 30,
   "id": "977687f5-5e07-48f6-ba1b-691a6410cecc",
   "metadata": {},
   "outputs": [],
   "source": [
    "## creating a DF\n",
    "nutrition = pd.DataFrame(post_list)"
   ]
  },
  {
   "cell_type": "code",
   "execution_count": 31,
   "id": "42c368ce-c44a-406c-a386-e334caf35a0e",
   "metadata": {},
   "outputs": [
    {
     "data": {
      "text/html": [
       "<div>\n",
       "<style scoped>\n",
       "    .dataframe tbody tr th:only-of-type {\n",
       "        vertical-align: middle;\n",
       "    }\n",
       "\n",
       "    .dataframe tbody tr th {\n",
       "        vertical-align: top;\n",
       "    }\n",
       "\n",
       "    .dataframe thead th {\n",
       "        text-align: right;\n",
       "    }\n",
       "</style>\n",
       "<table border=\"1\" class=\"dataframe\">\n",
       "  <thead>\n",
       "    <tr style=\"text-align: right;\">\n",
       "      <th></th>\n",
       "      <th>all_awardings</th>\n",
       "      <th>allow_live_comments</th>\n",
       "      <th>author</th>\n",
       "      <th>author_flair_css_class</th>\n",
       "      <th>author_flair_richtext</th>\n",
       "      <th>author_flair_text</th>\n",
       "      <th>author_flair_type</th>\n",
       "      <th>author_fullname</th>\n",
       "      <th>author_is_blocked</th>\n",
       "      <th>author_patreon_flair</th>\n",
       "      <th>...</th>\n",
       "      <th>author_flair_background_color</th>\n",
       "      <th>author_flair_template_id</th>\n",
       "      <th>author_flair_text_color</th>\n",
       "      <th>link_flair_css_class</th>\n",
       "      <th>link_flair_text</th>\n",
       "      <th>suggested_sort</th>\n",
       "      <th>banned_by</th>\n",
       "      <th>removed_by_category</th>\n",
       "      <th>edited</th>\n",
       "      <th>distinguished</th>\n",
       "    </tr>\n",
       "  </thead>\n",
       "  <tbody>\n",
       "    <tr>\n",
       "      <th>0</th>\n",
       "      <td>[]</td>\n",
       "      <td>False</td>\n",
       "      <td>kuddle_muddle</td>\n",
       "      <td>None</td>\n",
       "      <td>[]</td>\n",
       "      <td>None</td>\n",
       "      <td>text</td>\n",
       "      <td>t2_4dex3re1</td>\n",
       "      <td>False</td>\n",
       "      <td>False</td>\n",
       "      <td>...</td>\n",
       "      <td>NaN</td>\n",
       "      <td>NaN</td>\n",
       "      <td>NaN</td>\n",
       "      <td>NaN</td>\n",
       "      <td>NaN</td>\n",
       "      <td>NaN</td>\n",
       "      <td>NaN</td>\n",
       "      <td>NaN</td>\n",
       "      <td>NaN</td>\n",
       "      <td>NaN</td>\n",
       "    </tr>\n",
       "    <tr>\n",
       "      <th>1</th>\n",
       "      <td>[]</td>\n",
       "      <td>False</td>\n",
       "      <td>piebalddacshund</td>\n",
       "      <td>None</td>\n",
       "      <td>[]</td>\n",
       "      <td>None</td>\n",
       "      <td>text</td>\n",
       "      <td>t2_4pl7o2wh</td>\n",
       "      <td>False</td>\n",
       "      <td>False</td>\n",
       "      <td>...</td>\n",
       "      <td>NaN</td>\n",
       "      <td>NaN</td>\n",
       "      <td>NaN</td>\n",
       "      <td>NaN</td>\n",
       "      <td>NaN</td>\n",
       "      <td>NaN</td>\n",
       "      <td>NaN</td>\n",
       "      <td>NaN</td>\n",
       "      <td>NaN</td>\n",
       "      <td>NaN</td>\n",
       "    </tr>\n",
       "    <tr>\n",
       "      <th>2</th>\n",
       "      <td>[]</td>\n",
       "      <td>False</td>\n",
       "      <td>BigBootyBear</td>\n",
       "      <td>None</td>\n",
       "      <td>[]</td>\n",
       "      <td>None</td>\n",
       "      <td>text</td>\n",
       "      <td>t2_iwnk3</td>\n",
       "      <td>False</td>\n",
       "      <td>False</td>\n",
       "      <td>...</td>\n",
       "      <td>NaN</td>\n",
       "      <td>NaN</td>\n",
       "      <td>NaN</td>\n",
       "      <td>NaN</td>\n",
       "      <td>NaN</td>\n",
       "      <td>NaN</td>\n",
       "      <td>NaN</td>\n",
       "      <td>NaN</td>\n",
       "      <td>NaN</td>\n",
       "      <td>NaN</td>\n",
       "    </tr>\n",
       "    <tr>\n",
       "      <th>3</th>\n",
       "      <td>[]</td>\n",
       "      <td>False</td>\n",
       "      <td>tgorm327</td>\n",
       "      <td>None</td>\n",
       "      <td>[]</td>\n",
       "      <td>None</td>\n",
       "      <td>text</td>\n",
       "      <td>t2_4xp8v2um</td>\n",
       "      <td>False</td>\n",
       "      <td>False</td>\n",
       "      <td>...</td>\n",
       "      <td>NaN</td>\n",
       "      <td>NaN</td>\n",
       "      <td>NaN</td>\n",
       "      <td>NaN</td>\n",
       "      <td>NaN</td>\n",
       "      <td>NaN</td>\n",
       "      <td>NaN</td>\n",
       "      <td>NaN</td>\n",
       "      <td>NaN</td>\n",
       "      <td>NaN</td>\n",
       "    </tr>\n",
       "    <tr>\n",
       "      <th>4</th>\n",
       "      <td>[]</td>\n",
       "      <td>False</td>\n",
       "      <td>Estelwaterbottles</td>\n",
       "      <td>None</td>\n",
       "      <td>[]</td>\n",
       "      <td>None</td>\n",
       "      <td>text</td>\n",
       "      <td>t2_4vvs3kim</td>\n",
       "      <td>False</td>\n",
       "      <td>False</td>\n",
       "      <td>...</td>\n",
       "      <td>NaN</td>\n",
       "      <td>NaN</td>\n",
       "      <td>NaN</td>\n",
       "      <td>NaN</td>\n",
       "      <td>NaN</td>\n",
       "      <td>NaN</td>\n",
       "      <td>NaN</td>\n",
       "      <td>NaN</td>\n",
       "      <td>NaN</td>\n",
       "      <td>NaN</td>\n",
       "    </tr>\n",
       "  </tbody>\n",
       "</table>\n",
       "<p>5 rows × 72 columns</p>\n",
       "</div>"
      ],
      "text/plain": [
       "  all_awardings  allow_live_comments             author  \\\n",
       "0            []                False      kuddle_muddle   \n",
       "1            []                False    piebalddacshund   \n",
       "2            []                False       BigBootyBear   \n",
       "3            []                False           tgorm327   \n",
       "4            []                False  Estelwaterbottles   \n",
       "\n",
       "  author_flair_css_class author_flair_richtext author_flair_text  \\\n",
       "0                   None                    []              None   \n",
       "1                   None                    []              None   \n",
       "2                   None                    []              None   \n",
       "3                   None                    []              None   \n",
       "4                   None                    []              None   \n",
       "\n",
       "  author_flair_type author_fullname  author_is_blocked author_patreon_flair  \\\n",
       "0              text     t2_4dex3re1              False                False   \n",
       "1              text     t2_4pl7o2wh              False                False   \n",
       "2              text        t2_iwnk3              False                False   \n",
       "3              text     t2_4xp8v2um              False                False   \n",
       "4              text     t2_4vvs3kim              False                False   \n",
       "\n",
       "   ... author_flair_background_color author_flair_template_id  \\\n",
       "0  ...                           NaN                      NaN   \n",
       "1  ...                           NaN                      NaN   \n",
       "2  ...                           NaN                      NaN   \n",
       "3  ...                           NaN                      NaN   \n",
       "4  ...                           NaN                      NaN   \n",
       "\n",
       "   author_flair_text_color  link_flair_css_class  link_flair_text  \\\n",
       "0                      NaN                   NaN              NaN   \n",
       "1                      NaN                   NaN              NaN   \n",
       "2                      NaN                   NaN              NaN   \n",
       "3                      NaN                   NaN              NaN   \n",
       "4                      NaN                   NaN              NaN   \n",
       "\n",
       "  suggested_sort banned_by removed_by_category edited  distinguished  \n",
       "0            NaN       NaN                 NaN    NaN            NaN  \n",
       "1            NaN       NaN                 NaN    NaN            NaN  \n",
       "2            NaN       NaN                 NaN    NaN            NaN  \n",
       "3            NaN       NaN                 NaN    NaN            NaN  \n",
       "4            NaN       NaN                 NaN    NaN            NaN  \n",
       "\n",
       "[5 rows x 72 columns]"
      ]
     },
     "execution_count": 31,
     "metadata": {},
     "output_type": "execute_result"
    }
   ],
   "source": [
    "nutrition.head()"
   ]
  },
  {
   "cell_type": "code",
   "execution_count": 33,
   "id": "88f62763-2f64-4ea6-8142-5645175bf172",
   "metadata": {},
   "outputs": [],
   "source": [
    "## creating a seperate dataframe with only the columns I need\n",
    "df_2 = nutrition[['id','subreddit', 'selftext', 'title']]"
   ]
  },
  {
   "cell_type": "code",
   "execution_count": 34,
   "id": "c52f1d98-98e0-4a54-aaa5-952dc1e59cae",
   "metadata": {},
   "outputs": [
    {
     "data": {
      "text/plain": [
       "False    1916\n",
       "True       83\n",
       "dtype: int64"
      ]
     },
     "execution_count": 34,
     "metadata": {},
     "output_type": "execute_result"
    }
   ],
   "source": [
    "nutrition.duplicated(subset=['selftext']).value_counts()"
   ]
  },
  {
   "cell_type": "code",
   "execution_count": 35,
   "id": "41df59a8-4274-4226-aee5-0f708e3f94ca",
   "metadata": {},
   "outputs": [],
   "source": [
    "## dropping duplicated selftext subset but keep the last occurence of that duplicate\n",
    "\n",
    "df_2 = df_2.drop_duplicates(subset=['selftext'], keep ='last')"
   ]
  },
  {
   "cell_type": "code",
   "execution_count": 36,
   "id": "12056fa6-d275-4cb5-afc5-7b330d802956",
   "metadata": {},
   "outputs": [
    {
     "data": {
      "text/html": [
       "<div>\n",
       "<style scoped>\n",
       "    .dataframe tbody tr th:only-of-type {\n",
       "        vertical-align: middle;\n",
       "    }\n",
       "\n",
       "    .dataframe tbody tr th {\n",
       "        vertical-align: top;\n",
       "    }\n",
       "\n",
       "    .dataframe thead th {\n",
       "        text-align: right;\n",
       "    }\n",
       "</style>\n",
       "<table border=\"1\" class=\"dataframe\">\n",
       "  <thead>\n",
       "    <tr style=\"text-align: right;\">\n",
       "      <th></th>\n",
       "      <th>id</th>\n",
       "      <th>subreddit</th>\n",
       "      <th>selftext</th>\n",
       "      <th>title</th>\n",
       "    </tr>\n",
       "  </thead>\n",
       "  <tbody>\n",
       "    <tr>\n",
       "      <th>0</th>\n",
       "      <td>r6a0na</td>\n",
       "      <td>nutrition</td>\n",
       "      <td>I usually eat 2 pints a day…but I just realize...</td>\n",
       "      <td>Is there such thing as eating too many strawbe...</td>\n",
       "    </tr>\n",
       "    <tr>\n",
       "      <th>1</th>\n",
       "      <td>r69mv2</td>\n",
       "      <td>nutrition</td>\n",
       "      <td>I think hamburgers get a bad rap, because when...</td>\n",
       "      <td>Contrive opinion; I don’t think hamburgers are...</td>\n",
       "    </tr>\n",
       "    <tr>\n",
       "      <th>2</th>\n",
       "      <td>r66h31</td>\n",
       "      <td>nutrition</td>\n",
       "      <td>Could you please explain this to me?</td>\n",
       "      <td>Why does 40% Vodka have 231cals per 100ml, whe...</td>\n",
       "    </tr>\n",
       "    <tr>\n",
       "      <th>3</th>\n",
       "      <td>r65xvt</td>\n",
       "      <td>nutrition</td>\n",
       "      <td>Pasture raised organic eggs are probably the m...</td>\n",
       "      <td>Free range organic Vs pasture raised</td>\n",
       "    </tr>\n",
       "    <tr>\n",
       "      <th>4</th>\n",
       "      <td>r64tct</td>\n",
       "      <td>nutrition</td>\n",
       "      <td>What does a day of eating look like for you? \\...</td>\n",
       "      <td>For women aged 19+... How in the world do you ...</td>\n",
       "    </tr>\n",
       "    <tr>\n",
       "      <th>...</th>\n",
       "      <td>...</td>\n",
       "      <td>...</td>\n",
       "      <td>...</td>\n",
       "      <td>...</td>\n",
       "    </tr>\n",
       "    <tr>\n",
       "      <th>1994</th>\n",
       "      <td>ozcj8u</td>\n",
       "      <td>nutrition</td>\n",
       "      <td>Hey folks, \\n\\n\\n   I am north of Austin Texas...</td>\n",
       "      <td>Finding a sports nutritionist.</td>\n",
       "    </tr>\n",
       "    <tr>\n",
       "      <th>1995</th>\n",
       "      <td>ozbqad</td>\n",
       "      <td>nutrition</td>\n",
       "      <td>There are a ton of blogs, videos, etc about ea...</td>\n",
       "      <td>Having trouble finding “stupid easy” lunch ide...</td>\n",
       "    </tr>\n",
       "    <tr>\n",
       "      <th>1996</th>\n",
       "      <td>ozbjcm</td>\n",
       "      <td>nutrition</td>\n",
       "      <td>These days you can get protein supplements fro...</td>\n",
       "      <td>Is there any research on plant based protein s...</td>\n",
       "    </tr>\n",
       "    <tr>\n",
       "      <th>1997</th>\n",
       "      <td>oz9v5k</td>\n",
       "      <td>nutrition</td>\n",
       "      <td>I'm a 22 year and I try to limit my amount of ...</td>\n",
       "      <td>what's worse for you, sugar or caffeine?</td>\n",
       "    </tr>\n",
       "    <tr>\n",
       "      <th>1998</th>\n",
       "      <td>oz5j0q</td>\n",
       "      <td>nutrition</td>\n",
       "      <td>I've been trying to get to the bottom of what ...</td>\n",
       "      <td>Is there a nutrition book that is grounded in ...</td>\n",
       "    </tr>\n",
       "  </tbody>\n",
       "</table>\n",
       "<p>1916 rows × 4 columns</p>\n",
       "</div>"
      ],
      "text/plain": [
       "          id  subreddit                                           selftext  \\\n",
       "0     r6a0na  nutrition  I usually eat 2 pints a day…but I just realize...   \n",
       "1     r69mv2  nutrition  I think hamburgers get a bad rap, because when...   \n",
       "2     r66h31  nutrition               Could you please explain this to me?   \n",
       "3     r65xvt  nutrition  Pasture raised organic eggs are probably the m...   \n",
       "4     r64tct  nutrition  What does a day of eating look like for you? \\...   \n",
       "...      ...        ...                                                ...   \n",
       "1994  ozcj8u  nutrition  Hey folks, \\n\\n\\n   I am north of Austin Texas...   \n",
       "1995  ozbqad  nutrition  There are a ton of blogs, videos, etc about ea...   \n",
       "1996  ozbjcm  nutrition  These days you can get protein supplements fro...   \n",
       "1997  oz9v5k  nutrition  I'm a 22 year and I try to limit my amount of ...   \n",
       "1998  oz5j0q  nutrition  I've been trying to get to the bottom of what ...   \n",
       "\n",
       "                                                  title  \n",
       "0     Is there such thing as eating too many strawbe...  \n",
       "1     Contrive opinion; I don’t think hamburgers are...  \n",
       "2     Why does 40% Vodka have 231cals per 100ml, whe...  \n",
       "3                  Free range organic Vs pasture raised  \n",
       "4     For women aged 19+... How in the world do you ...  \n",
       "...                                                 ...  \n",
       "1994                     Finding a sports nutritionist.  \n",
       "1995  Having trouble finding “stupid easy” lunch ide...  \n",
       "1996  Is there any research on plant based protein s...  \n",
       "1997           what's worse for you, sugar or caffeine?  \n",
       "1998  Is there a nutrition book that is grounded in ...  \n",
       "\n",
       "[1916 rows x 4 columns]"
      ]
     },
     "execution_count": 36,
     "metadata": {},
     "output_type": "execute_result"
    }
   ],
   "source": [
    "df_2"
   ]
  },
  {
   "cell_type": "code",
   "execution_count": 37,
   "id": "c57f6723-3a7a-44d1-ab40-c77e71c676e3",
   "metadata": {},
   "outputs": [],
   "source": [
    "## saving the df_2\n",
    "df_2.to_csv('nutrition_df')"
   ]
  },
  {
   "cell_type": "markdown",
   "id": "cedd10ac-e490-44a6-9e4d-32ef9ea0b1e5",
   "metadata": {},
   "source": [
    "## Combined DataFrames"
   ]
  },
  {
   "cell_type": "code",
   "execution_count": 8,
   "id": "ccab982d-c1f3-47bd-a848-78a5be98feaf",
   "metadata": {},
   "outputs": [],
   "source": [
    "## concatenating both plantbased and nutrition dataframes\n",
    "\n",
    "combined_df = pd.concat([df_1, df_2.reset_index(drop=True)], axis=0)"
   ]
  },
  {
   "cell_type": "code",
   "execution_count": 9,
   "id": "5004bf67-a5fd-41d8-8de3-df60829b5a9e",
   "metadata": {},
   "outputs": [
    {
     "data": {
      "text/html": [
       "<div>\n",
       "<style scoped>\n",
       "    .dataframe tbody tr th:only-of-type {\n",
       "        vertical-align: middle;\n",
       "    }\n",
       "\n",
       "    .dataframe tbody tr th {\n",
       "        vertical-align: top;\n",
       "    }\n",
       "\n",
       "    .dataframe thead th {\n",
       "        text-align: right;\n",
       "    }\n",
       "</style>\n",
       "<table border=\"1\" class=\"dataframe\">\n",
       "  <thead>\n",
       "    <tr style=\"text-align: right;\">\n",
       "      <th></th>\n",
       "      <th>id</th>\n",
       "      <th>subreddit</th>\n",
       "      <th>selftext</th>\n",
       "      <th>title</th>\n",
       "    </tr>\n",
       "  </thead>\n",
       "  <tbody>\n",
       "    <tr>\n",
       "      <th>0</th>\n",
       "      <td>r67ky9</td>\n",
       "      <td>PlantBasedDiet</td>\n",
       "      <td>I am a 32 year old man and I keep trying to im...</td>\n",
       "      <td>How can I stay full on a plant based diet? Wit...</td>\n",
       "    </tr>\n",
       "    <tr>\n",
       "      <th>1</th>\n",
       "      <td>r5slcs</td>\n",
       "      <td>PlantBasedDiet</td>\n",
       "      <td>I'm looking to transition to a plant-based die...</td>\n",
       "      <td>How do you navigate around people that don't e...</td>\n",
       "    </tr>\n",
       "    <tr>\n",
       "      <th>2</th>\n",
       "      <td>r5o90n</td>\n",
       "      <td>PlantBasedDiet</td>\n",
       "      <td>I promised to myself to switch to a more whole...</td>\n",
       "      <td>Tips &amp;amp; Tricks for preparation/conservation...</td>\n",
       "    </tr>\n",
       "    <tr>\n",
       "      <th>3</th>\n",
       "      <td>r5ebza</td>\n",
       "      <td>PlantBasedDiet</td>\n",
       "      <td>I certainly don’t want to start any controvers...</td>\n",
       "      <td>Clearing up confusion about oil + recipe</td>\n",
       "    </tr>\n",
       "    <tr>\n",
       "      <th>4</th>\n",
       "      <td>r59uc9</td>\n",
       "      <td>PlantBasedDiet</td>\n",
       "      <td>I started a WFPB diet a month ago after I wa...</td>\n",
       "      <td>Ex - low carb in need of advice</td>\n",
       "    </tr>\n",
       "  </tbody>\n",
       "</table>\n",
       "</div>"
      ],
      "text/plain": [
       "       id       subreddit                                           selftext  \\\n",
       "0  r67ky9  PlantBasedDiet  I am a 32 year old man and I keep trying to im...   \n",
       "1  r5slcs  PlantBasedDiet  I'm looking to transition to a plant-based die...   \n",
       "2  r5o90n  PlantBasedDiet  I promised to myself to switch to a more whole...   \n",
       "3  r5ebza  PlantBasedDiet  I certainly don’t want to start any controvers...   \n",
       "4  r59uc9  PlantBasedDiet    I started a WFPB diet a month ago after I wa...   \n",
       "\n",
       "                                               title  \n",
       "0  How can I stay full on a plant based diet? Wit...  \n",
       "1  How do you navigate around people that don't e...  \n",
       "2  Tips &amp; Tricks for preparation/conservation...  \n",
       "3           Clearing up confusion about oil + recipe  \n",
       "4                    Ex - low carb in need of advice  "
      ]
     },
     "execution_count": 9,
     "metadata": {},
     "output_type": "execute_result"
    }
   ],
   "source": [
    "combined_df.head()"
   ]
  },
  {
   "cell_type": "code",
   "execution_count": 10,
   "id": "42d1a75d-2525-4797-92ce-4f9931ddd902",
   "metadata": {},
   "outputs": [
    {
     "data": {
      "text/html": [
       "<div>\n",
       "<style scoped>\n",
       "    .dataframe tbody tr th:only-of-type {\n",
       "        vertical-align: middle;\n",
       "    }\n",
       "\n",
       "    .dataframe tbody tr th {\n",
       "        vertical-align: top;\n",
       "    }\n",
       "\n",
       "    .dataframe thead th {\n",
       "        text-align: right;\n",
       "    }\n",
       "</style>\n",
       "<table border=\"1\" class=\"dataframe\">\n",
       "  <thead>\n",
       "    <tr style=\"text-align: right;\">\n",
       "      <th></th>\n",
       "      <th>id</th>\n",
       "      <th>subreddit</th>\n",
       "      <th>selftext</th>\n",
       "      <th>title</th>\n",
       "      <th>label</th>\n",
       "    </tr>\n",
       "  </thead>\n",
       "  <tbody>\n",
       "    <tr>\n",
       "      <th>0</th>\n",
       "      <td>r67ky9</td>\n",
       "      <td>PlantBasedDiet</td>\n",
       "      <td>I am a 32 year old man and I keep trying to im...</td>\n",
       "      <td>How can I stay full on a plant based diet? Wit...</td>\n",
       "      <td>1</td>\n",
       "    </tr>\n",
       "    <tr>\n",
       "      <th>1</th>\n",
       "      <td>r5slcs</td>\n",
       "      <td>PlantBasedDiet</td>\n",
       "      <td>I'm looking to transition to a plant-based die...</td>\n",
       "      <td>How do you navigate around people that don't e...</td>\n",
       "      <td>1</td>\n",
       "    </tr>\n",
       "    <tr>\n",
       "      <th>2</th>\n",
       "      <td>r5o90n</td>\n",
       "      <td>PlantBasedDiet</td>\n",
       "      <td>I promised to myself to switch to a more whole...</td>\n",
       "      <td>Tips &amp;amp; Tricks for preparation/conservation...</td>\n",
       "      <td>1</td>\n",
       "    </tr>\n",
       "    <tr>\n",
       "      <th>3</th>\n",
       "      <td>r5ebza</td>\n",
       "      <td>PlantBasedDiet</td>\n",
       "      <td>I certainly don’t want to start any controvers...</td>\n",
       "      <td>Clearing up confusion about oil + recipe</td>\n",
       "      <td>1</td>\n",
       "    </tr>\n",
       "    <tr>\n",
       "      <th>4</th>\n",
       "      <td>r59uc9</td>\n",
       "      <td>PlantBasedDiet</td>\n",
       "      <td>I started a WFPB diet a month ago after I wa...</td>\n",
       "      <td>Ex - low carb in need of advice</td>\n",
       "      <td>1</td>\n",
       "    </tr>\n",
       "    <tr>\n",
       "      <th>...</th>\n",
       "      <td>...</td>\n",
       "      <td>...</td>\n",
       "      <td>...</td>\n",
       "      <td>...</td>\n",
       "      <td>...</td>\n",
       "    </tr>\n",
       "    <tr>\n",
       "      <th>1911</th>\n",
       "      <td>ozcj8u</td>\n",
       "      <td>nutrition</td>\n",
       "      <td>Hey folks, \\n\\n\\n   I am north of Austin Texas...</td>\n",
       "      <td>Finding a sports nutritionist.</td>\n",
       "      <td>0</td>\n",
       "    </tr>\n",
       "    <tr>\n",
       "      <th>1912</th>\n",
       "      <td>ozbqad</td>\n",
       "      <td>nutrition</td>\n",
       "      <td>There are a ton of blogs, videos, etc about ea...</td>\n",
       "      <td>Having trouble finding “stupid easy” lunch ide...</td>\n",
       "      <td>0</td>\n",
       "    </tr>\n",
       "    <tr>\n",
       "      <th>1913</th>\n",
       "      <td>ozbjcm</td>\n",
       "      <td>nutrition</td>\n",
       "      <td>These days you can get protein supplements fro...</td>\n",
       "      <td>Is there any research on plant based protein s...</td>\n",
       "      <td>0</td>\n",
       "    </tr>\n",
       "    <tr>\n",
       "      <th>1914</th>\n",
       "      <td>oz9v5k</td>\n",
       "      <td>nutrition</td>\n",
       "      <td>I'm a 22 year and I try to limit my amount of ...</td>\n",
       "      <td>what's worse for you, sugar or caffeine?</td>\n",
       "      <td>0</td>\n",
       "    </tr>\n",
       "    <tr>\n",
       "      <th>1915</th>\n",
       "      <td>oz5j0q</td>\n",
       "      <td>nutrition</td>\n",
       "      <td>I've been trying to get to the bottom of what ...</td>\n",
       "      <td>Is there a nutrition book that is grounded in ...</td>\n",
       "      <td>0</td>\n",
       "    </tr>\n",
       "  </tbody>\n",
       "</table>\n",
       "<p>3569 rows × 5 columns</p>\n",
       "</div>"
      ],
      "text/plain": [
       "          id       subreddit  \\\n",
       "0     r67ky9  PlantBasedDiet   \n",
       "1     r5slcs  PlantBasedDiet   \n",
       "2     r5o90n  PlantBasedDiet   \n",
       "3     r5ebza  PlantBasedDiet   \n",
       "4     r59uc9  PlantBasedDiet   \n",
       "...      ...             ...   \n",
       "1911  ozcj8u       nutrition   \n",
       "1912  ozbqad       nutrition   \n",
       "1913  ozbjcm       nutrition   \n",
       "1914  oz9v5k       nutrition   \n",
       "1915  oz5j0q       nutrition   \n",
       "\n",
       "                                               selftext  \\\n",
       "0     I am a 32 year old man and I keep trying to im...   \n",
       "1     I'm looking to transition to a plant-based die...   \n",
       "2     I promised to myself to switch to a more whole...   \n",
       "3     I certainly don’t want to start any controvers...   \n",
       "4       I started a WFPB diet a month ago after I wa...   \n",
       "...                                                 ...   \n",
       "1911  Hey folks, \\n\\n\\n   I am north of Austin Texas...   \n",
       "1912  There are a ton of blogs, videos, etc about ea...   \n",
       "1913  These days you can get protein supplements fro...   \n",
       "1914  I'm a 22 year and I try to limit my amount of ...   \n",
       "1915  I've been trying to get to the bottom of what ...   \n",
       "\n",
       "                                                  title  label  \n",
       "0     How can I stay full on a plant based diet? Wit...      1  \n",
       "1     How do you navigate around people that don't e...      1  \n",
       "2     Tips &amp; Tricks for preparation/conservation...      1  \n",
       "3              Clearing up confusion about oil + recipe      1  \n",
       "4                       Ex - low carb in need of advice      1  \n",
       "...                                                 ...    ...  \n",
       "1911                     Finding a sports nutritionist.      0  \n",
       "1912  Having trouble finding “stupid easy” lunch ide...      0  \n",
       "1913  Is there any research on plant based protein s...      0  \n",
       "1914           what's worse for you, sugar or caffeine?      0  \n",
       "1915  Is there a nutrition book that is grounded in ...      0  \n",
       "\n",
       "[3569 rows x 5 columns]"
      ]
     },
     "execution_count": 10,
     "metadata": {},
     "output_type": "execute_result"
    }
   ],
   "source": [
    "## creating a label column \n",
    "## 1 for PlantBasedDiet\n",
    "## 0 for nutrition\n",
    "\n",
    "combined_df['label'] = combined_df['subreddit'].map({'PlantBasedDiet':1, 'nutrition':0})\n",
    "combined_df"
   ]
  },
  {
   "cell_type": "code",
   "execution_count": 11,
   "id": "86039447-9862-4203-8664-915d52779ba0",
   "metadata": {},
   "outputs": [
    {
     "data": {
      "text/plain": [
       "id           0\n",
       "subreddit    0\n",
       "selftext     3\n",
       "title        0\n",
       "label        0\n",
       "dtype: int64"
      ]
     },
     "execution_count": 11,
     "metadata": {},
     "output_type": "execute_result"
    }
   ],
   "source": [
    "combined_df.isnull().sum()"
   ]
  },
  {
   "cell_type": "code",
   "execution_count": 12,
   "id": "020687d8-2411-4458-bef0-62e9d05fefa4",
   "metadata": {},
   "outputs": [],
   "source": [
    "combined_df.dropna(inplace=True)"
   ]
  },
  {
   "cell_type": "code",
   "execution_count": 13,
   "id": "09d94b20-550a-42c2-a48d-e20fedf436ea",
   "metadata": {},
   "outputs": [],
   "source": [
    "combined_df.to_csv('combined_df')"
   ]
  },
  {
   "cell_type": "markdown",
   "id": "a8a5754d-2195-4936-83af-c48a593f9019",
   "metadata": {},
   "source": [
    "## Exploration of Uncleaned Text"
   ]
  },
  {
   "cell_type": "code",
   "execution_count": 15,
   "id": "12bf8750-f4e9-496c-bff0-2e6dccba8841",
   "metadata": {},
   "outputs": [],
   "source": [
    "## Imports\n",
    "\n",
    "from nltk.tokenize import sent_tokenize, word_tokenize, RegexpTokenizer\n",
    "from nltk.stem import WordNetLemmatizer\n",
    "from nltk.stem.porter import PorterStemmer\n",
    "from nltk.corpus import stopwords\n",
    "from nltk.sentiment.vader import SentimentIntensityAnalyzer\n",
    "import re"
   ]
  },
  {
   "cell_type": "code",
   "execution_count": 16,
   "id": "01b48b59-f131-4de3-9608-dbef03bbfacd",
   "metadata": {},
   "outputs": [],
   "source": [
    "explore = combined_df[['selftext']]"
   ]
  },
  {
   "cell_type": "code",
   "execution_count": 17,
   "id": "f10ed312-71cf-45b8-95e4-09fb4d5ceb5b",
   "metadata": {},
   "outputs": [
    {
     "name": "stderr",
     "output_type": "stream",
     "text": [
      "/var/folders/nb/q3q3zfsd19q43ntlzbsrbd3h0000gn/T/ipykernel_89443/563465817.py:1: SettingWithCopyWarning: \n",
      "A value is trying to be set on a copy of a slice from a DataFrame.\n",
      "Try using .loc[row_indexer,col_indexer] = value instead\n",
      "\n",
      "See the caveats in the documentation: https://pandas.pydata.org/pandas-docs/stable/user_guide/indexing.html#returning-a-view-versus-a-copy\n",
      "  explore['strings'] = explore['selftext'].apply(lambda x: str(x))\n"
     ]
    }
   ],
   "source": [
    "explore['strings'] = explore['selftext'].apply(lambda x: str(x))"
   ]
  },
  {
   "cell_type": "code",
   "execution_count": 18,
   "id": "010327bc-ed85-4bdd-9cc5-fe34f8c8ed52",
   "metadata": {},
   "outputs": [
    {
     "name": "stdout",
     "output_type": "stream",
     "text": [
      "<class 'pandas.core.frame.DataFrame'>\n",
      "Int64Index: 3566 entries, 0 to 1915\n",
      "Data columns (total 2 columns):\n",
      " #   Column    Non-Null Count  Dtype \n",
      "---  ------    --------------  ----- \n",
      " 0   selftext  3566 non-null   object\n",
      " 1   strings   3566 non-null   object\n",
      "dtypes: object(2)\n",
      "memory usage: 83.6+ KB\n"
     ]
    }
   ],
   "source": [
    "explore.info()"
   ]
  },
  {
   "cell_type": "code",
   "execution_count": 20,
   "id": "59ec5878-8583-416a-933b-a2250998bf94",
   "metadata": {},
   "outputs": [
    {
     "data": {
      "text/plain": [
       "CountVectorizer(min_df=3, stop_words='english')"
      ]
     },
     "execution_count": 20,
     "metadata": {},
     "output_type": "execute_result"
    }
   ],
   "source": [
    "# Instantiate a CountVectorizer.\n",
    "cvec = CountVectorizer(stop_words=\"english\", min_df=3)\n",
    "cvec.fit(explore['selftext'])"
   ]
  },
  {
   "cell_type": "code",
   "execution_count": 21,
   "id": "3aad9278-a64d-4756-b2bb-3497745c7d77",
   "metadata": {},
   "outputs": [],
   "source": [
    "selftext_cv = cvec.transform(explore['selftext'])"
   ]
  },
  {
   "cell_type": "code",
   "execution_count": 22,
   "id": "959c0b7f-684e-4b99-a096-76b4623b0b4f",
   "metadata": {},
   "outputs": [],
   "source": [
    "selftext_df = pd.DataFrame(selftext_cv.todense(), columns=cvec.get_feature_names_out())"
   ]
  },
  {
   "cell_type": "code",
   "execution_count": 23,
   "id": "a9a71ef9-7964-40da-8e10-e6aaaafd76b1",
   "metadata": {},
   "outputs": [
    {
     "data": {
      "text/plain": [
       "like       1358\n",
       "just       1314\n",
       "eat        1100\n",
       "ve         1064\n",
       "diet       1058\n",
       "eating      865\n",
       "based       824\n",
       "food        806\n",
       "know        805\n",
       "plant       772\n",
       "https       734\n",
       "protein     721\n",
       "don         716\n",
       "day         681\n",
       "good        616\n",
       "dtype: int64"
      ]
     },
     "execution_count": 23,
     "metadata": {},
     "output_type": "execute_result"
    }
   ],
   "source": [
    "selftext_df.sum().sort_values(ascending=False).head(15)"
   ]
  },
  {
   "cell_type": "code",
   "execution_count": 24,
   "id": "a357741f-5017-4288-bfae-58ba8b5a32f5",
   "metadata": {},
   "outputs": [
    {
     "data": {
      "image/png": "[encoded data removed]",
      "text/plain": [
       "<Figure size 432x288 with 1 Axes>"
      ]
     },
     "metadata": {
      "needs_background": "light"
     },
     "output_type": "display_data"
    }
   ],
   "source": [
    "selftext_df.sum().sort_values(ascending=False).head(15).plot(kind='barh');"
   ]
  },
  {
   "cell_type": "code",
   "execution_count": 25,
   "id": "04af98c3-7b3e-4cac-9ff5-a0b41ca6525f",
   "metadata": {},
   "outputs": [],
   "source": [
    "cvec = CountVectorizer(stop_words=[\"english\"], min_df=3, ngram_range=(2,2))\n",
    "cvec.fit(explore['selftext'])\n",
    "selftext_cv = cvec.transform(explore['selftext'])\n",
    "selftext_df = pd.DataFrame(selftext_cv.todense(), columns=cvec.get_feature_names_out())"
   ]
  },
  {
   "cell_type": "code",
   "execution_count": 26,
   "id": "59f9101f-455f-48b4-b8bf-a076dac69e00",
   "metadata": {},
   "outputs": [
    {
     "data": {
      "image/png": "[encoded data removed]",
      "text/plain": [
       "<Figure size 432x288 with 1 Axes>"
      ]
     },
     "metadata": {
      "needs_background": "light"
     },
     "output_type": "display_data"
    }
   ],
   "source": [
    "selftext_df.sum().sort_values(ascending=False).head(15).plot(kind='barh');"
   ]
  },
  {
   "cell_type": "markdown",
   "id": "c9df4c34-5513-4549-b08c-b6bbf276ed48",
   "metadata": {},
   "source": [
    "### Cleaning Text"
   ]
  },
  {
   "cell_type": "code",
   "execution_count": 27,
   "id": "1d920f8a-2d03-4e9d-90d0-61c3ddeba644",
   "metadata": {},
   "outputs": [],
   "source": [
    "from nltk.corpus import stopwords\n",
    "from nltk.tokenize import word_tokenize\n",
    "from nltk.tokenize import sent_tokenize\n",
    "from nltk.stem import WordNetLemmatizer "
   ]
  },
  {
   "cell_type": "code",
   "execution_count": 28,
   "id": "f5a85950-7735-446b-84bb-767175578dd7",
   "metadata": {},
   "outputs": [],
   "source": [
    "## creating functions to clean the selftext column\n",
    "## taken from towards data science website post\n",
    "\n",
    "def remove_stopwords(text):\n",
    "    stop_words = set(stopwords.words('english')) \n",
    "    words = word_tokenize( text.lower() ) \n",
    "    sentence = [w for w in words if not w in stop_words]\n",
    "    return \" \".join(sentence)"
   ]
  },
  {
   "cell_type": "code",
   "execution_count": 29,
   "id": "c4a1e6a6-742e-444f-8ccb-f4d4ecd443ee",
   "metadata": {},
   "outputs": [],
   "source": [
    "def lemmatize_text(text):\n",
    "    wordlist=[]\n",
    "    lemmatizer = WordNetLemmatizer() \n",
    "    sentences=sent_tokenize(text)\n",
    "    for sentence in sentences:\n",
    "        words=word_tokenize(sentence)\n",
    "        for word in words:\n",
    "            wordlist.append(lemmatizer.lemmatize(word))\n",
    "    return ' '.join(wordlist) "
   ]
  },
  {
   "cell_type": "code",
   "execution_count": 30,
   "id": "edd18e59-ea00-4d88-b083-c935cfe466d6",
   "metadata": {},
   "outputs": [],
   "source": [
    "import string\n",
    "\n",
    "def clean_txt(text): \n",
    "    delete_dict = {sp_character: '' for sp_character in string.punctuation} \n",
    "    delete_dict[' '] = ' ' \n",
    "    table = str.maketrans(delete_dict)\n",
    "    text1 = text.translate(table)\n",
    "    textArr= text1.split()\n",
    "    text2 = ' '.join([w for w in textArr]) \n",
    "    \n",
    "    return text2.lower()"
   ]
  },
  {
   "cell_type": "code",
   "execution_count": 31,
   "id": "615aa38e-4b56-46ae-a604-fa5c35a077b1",
   "metadata": {},
   "outputs": [
    {
     "data": {
      "text/html": [
       "<div>\n",
       "<style scoped>\n",
       "    .dataframe tbody tr th:only-of-type {\n",
       "        vertical-align: middle;\n",
       "    }\n",
       "\n",
       "    .dataframe tbody tr th {\n",
       "        vertical-align: top;\n",
       "    }\n",
       "\n",
       "    .dataframe thead th {\n",
       "        text-align: right;\n",
       "    }\n",
       "</style>\n",
       "<table border=\"1\" class=\"dataframe\">\n",
       "  <thead>\n",
       "    <tr style=\"text-align: right;\">\n",
       "      <th></th>\n",
       "      <th>id</th>\n",
       "      <th>subreddit</th>\n",
       "      <th>selftext</th>\n",
       "      <th>title</th>\n",
       "      <th>label</th>\n",
       "    </tr>\n",
       "  </thead>\n",
       "  <tbody>\n",
       "    <tr>\n",
       "      <th>0</th>\n",
       "      <td>r67ky9</td>\n",
       "      <td>PlantBasedDiet</td>\n",
       "      <td>I am a 32 year old man and I keep trying to im...</td>\n",
       "      <td>How can I stay full on a plant based diet? Wit...</td>\n",
       "      <td>1</td>\n",
       "    </tr>\n",
       "    <tr>\n",
       "      <th>1</th>\n",
       "      <td>r5slcs</td>\n",
       "      <td>PlantBasedDiet</td>\n",
       "      <td>I'm looking to transition to a plant-based die...</td>\n",
       "      <td>How do you navigate around people that don't e...</td>\n",
       "      <td>1</td>\n",
       "    </tr>\n",
       "    <tr>\n",
       "      <th>2</th>\n",
       "      <td>r5o90n</td>\n",
       "      <td>PlantBasedDiet</td>\n",
       "      <td>I promised to myself to switch to a more whole...</td>\n",
       "      <td>Tips &amp;amp; Tricks for preparation/conservation...</td>\n",
       "      <td>1</td>\n",
       "    </tr>\n",
       "    <tr>\n",
       "      <th>3</th>\n",
       "      <td>r5ebza</td>\n",
       "      <td>PlantBasedDiet</td>\n",
       "      <td>I certainly don’t want to start any controvers...</td>\n",
       "      <td>Clearing up confusion about oil + recipe</td>\n",
       "      <td>1</td>\n",
       "    </tr>\n",
       "    <tr>\n",
       "      <th>4</th>\n",
       "      <td>r59uc9</td>\n",
       "      <td>PlantBasedDiet</td>\n",
       "      <td>I started a WFPB diet a month ago after I wa...</td>\n",
       "      <td>Ex - low carb in need of advice</td>\n",
       "      <td>1</td>\n",
       "    </tr>\n",
       "  </tbody>\n",
       "</table>\n",
       "</div>"
      ],
      "text/plain": [
       "       id       subreddit                                           selftext  \\\n",
       "0  r67ky9  PlantBasedDiet  I am a 32 year old man and I keep trying to im...   \n",
       "1  r5slcs  PlantBasedDiet  I'm looking to transition to a plant-based die...   \n",
       "2  r5o90n  PlantBasedDiet  I promised to myself to switch to a more whole...   \n",
       "3  r5ebza  PlantBasedDiet  I certainly don’t want to start any controvers...   \n",
       "4  r59uc9  PlantBasedDiet    I started a WFPB diet a month ago after I wa...   \n",
       "\n",
       "                                               title  label  \n",
       "0  How can I stay full on a plant based diet? Wit...      1  \n",
       "1  How do you navigate around people that don't e...      1  \n",
       "2  Tips &amp; Tricks for preparation/conservation...      1  \n",
       "3           Clearing up confusion about oil + recipe      1  \n",
       "4                    Ex - low carb in need of advice      1  "
      ]
     },
     "execution_count": 31,
     "metadata": {},
     "output_type": "execute_result"
    }
   ],
   "source": [
    "combined_df.head()"
   ]
  },
  {
   "cell_type": "code",
   "execution_count": 32,
   "id": "d6bc6f9c-4084-402e-9d3c-67577f86782b",
   "metadata": {},
   "outputs": [],
   "source": [
    "clean_text = combined_df[['label', 'selftext']]"
   ]
  },
  {
   "cell_type": "code",
   "execution_count": 33,
   "id": "bcd8bf88-35db-459a-add5-95204f1e5560",
   "metadata": {},
   "outputs": [
    {
     "name": "stderr",
     "output_type": "stream",
     "text": [
      "/var/folders/nb/q3q3zfsd19q43ntlzbsrbd3h0000gn/T/ipykernel_89443/4021678352.py:1: SettingWithCopyWarning: \n",
      "A value is trying to be set on a copy of a slice from a DataFrame.\n",
      "Try using .loc[row_indexer,col_indexer] = value instead\n",
      "\n",
      "See the caveats in the documentation: https://pandas.pydata.org/pandas-docs/stable/user_guide/indexing.html#returning-a-view-versus-a-copy\n",
      "  clean_text['selftext'] = clean_text['selftext'].apply(remove_stopwords)\n"
     ]
    }
   ],
   "source": [
    "clean_text['selftext'] = clean_text['selftext'].apply(remove_stopwords)"
   ]
  },
  {
   "cell_type": "code",
   "execution_count": 34,
   "id": "e0b9aed7-2926-4ccd-a800-697e78f994ac",
   "metadata": {},
   "outputs": [
    {
     "name": "stderr",
     "output_type": "stream",
     "text": [
      "/var/folders/nb/q3q3zfsd19q43ntlzbsrbd3h0000gn/T/ipykernel_89443/1994545521.py:1: SettingWithCopyWarning: \n",
      "A value is trying to be set on a copy of a slice from a DataFrame.\n",
      "Try using .loc[row_indexer,col_indexer] = value instead\n",
      "\n",
      "See the caveats in the documentation: https://pandas.pydata.org/pandas-docs/stable/user_guide/indexing.html#returning-a-view-versus-a-copy\n",
      "  clean_text['selftext'] = clean_text['selftext'].copy().apply(lemmatize_text)\n"
     ]
    }
   ],
   "source": [
    "clean_text['selftext'] = clean_text['selftext'].copy().apply(lemmatize_text)"
   ]
  },
  {
   "cell_type": "code",
   "execution_count": 35,
   "id": "b675f5e3-d214-4bf8-b994-c93cff959caf",
   "metadata": {},
   "outputs": [
    {
     "name": "stderr",
     "output_type": "stream",
     "text": [
      "/var/folders/nb/q3q3zfsd19q43ntlzbsrbd3h0000gn/T/ipykernel_89443/3616041809.py:1: SettingWithCopyWarning: \n",
      "A value is trying to be set on a copy of a slice from a DataFrame.\n",
      "Try using .loc[row_indexer,col_indexer] = value instead\n",
      "\n",
      "See the caveats in the documentation: https://pandas.pydata.org/pandas-docs/stable/user_guide/indexing.html#returning-a-view-versus-a-copy\n",
      "  clean_text['selftext'] = clean_text['selftext'].apply(clean_txt)\n"
     ]
    }
   ],
   "source": [
    "clean_text['selftext'] = clean_text['selftext'].apply(clean_txt)"
   ]
  },
  {
   "cell_type": "code",
   "execution_count": 36,
   "id": "0665ada9-2010-4060-9b57-437a4329b970",
   "metadata": {},
   "outputs": [],
   "source": [
    "cvec = CountVectorizer(stop_words=[\"english\"], min_df=3, ngram_range=(1,3))\n",
    "cvec.fit(clean_text['selftext'])\n",
    "cleaned_cv = cvec.transform(clean_text['selftext'])\n",
    "cleaned_df = pd.DataFrame(cleaned_cv.todense(), columns=cvec.get_feature_names_out())"
   ]
  },
  {
   "cell_type": "code",
   "execution_count": 37,
   "id": "b826eaf1-f17b-4cc3-b5d3-fd7d5dfd7f25",
   "metadata": {},
   "outputs": [
    {
     "data": {
      "image/png": "[encoded data removed]",
      "text/plain": [
       "<Figure size 432x288 with 1 Axes>"
      ]
     },
     "metadata": {
      "needs_background": "light"
     },
     "output_type": "display_data"
    }
   ],
   "source": [
    "## using one word\n",
    "cleaned_df.sum().sort_values(ascending=False).head(15).plot(kind='barh');"
   ]
  },
  {
   "cell_type": "code",
   "execution_count": 38,
   "id": "66327b85-9dc7-4eb2-92aa-4c2576cdafb2",
   "metadata": {},
   "outputs": [],
   "source": [
    "cvec = CountVectorizer(stop_words=[\"english\"], min_df=3, ngram_range=(2,2))\n",
    "cvec.fit(clean_text['selftext'])\n",
    "cleaned_cv = cvec.transform(clean_text['selftext'])\n",
    "cleaned_df = pd.DataFrame(cleaned_cv.todense(), columns=cvec.get_feature_names_out())"
   ]
  },
  {
   "cell_type": "code",
   "execution_count": 39,
   "id": "61e51b6d-898a-4eb4-93c3-bde488dd323c",
   "metadata": {},
   "outputs": [
    {
     "data": {
      "image/png": "[encoded data removed]",
      "text/plain": [
       "<Figure size 432x288 with 1 Axes>"
      ]
     },
     "metadata": {
      "needs_background": "light"
     },
     "output_type": "display_data"
    }
   ],
   "source": [
    "cleaned_df.sum().sort_values(ascending=False).head(15).plot(kind='barh');"
   ]
  },
  {
   "cell_type": "markdown",
   "id": "4f20dab0-80ec-4c9d-a3de-229b2aeee464",
   "metadata": {},
   "source": [
    "### Looking at the plant based diet subreddit"
   ]
  },
  {
   "cell_type": "code",
   "execution_count": 41,
   "id": "f80d6796-e236-4d5d-bcc4-9ee192780a69",
   "metadata": {},
   "outputs": [],
   "source": [
    "plants = clean_text[clean_text['label'] == 1]"
   ]
  },
  {
   "cell_type": "code",
   "execution_count": 42,
   "id": "e1f71ca5-adb1-46e6-9f3a-ad23242eeb1c",
   "metadata": {},
   "outputs": [],
   "source": [
    "### Looking at the 15 most common words in the plant based dataframe \n",
    "\n",
    "cvec = CountVectorizer(stop_words=[\"english\"], min_df=3, ngram_range=(1,3))\n",
    "cvec.fit(plants['selftext'])\n",
    "plants_cv = cvec.transform(plants['selftext'])\n",
    "plants_df = pd.DataFrame(plants_cv.todense(), columns=cvec.get_feature_names_out())"
   ]
  },
  {
   "cell_type": "code",
   "execution_count": 43,
   "id": "cb83e823-93b6-46b5-b4fc-c07d2e3b3cac",
   "metadata": {},
   "outputs": [
    {
     "data": {
      "image/png": "[encoded data removed]",
      "text/plain": [
       "<Figure size 432x288 with 1 Axes>"
      ]
     },
     "metadata": {
      "needs_background": "light"
     },
     "output_type": "display_data"
    }
   ],
   "source": [
    "## using one word\n",
    "plants_df.sum().sort_values(ascending=False).head(15).plot(kind='barh');"
   ]
  },
  {
   "cell_type": "code",
   "execution_count": 44,
   "id": "774db772-0550-4e03-aa21-4da9be023e5d",
   "metadata": {},
   "outputs": [
    {
     "data": {
      "image/png": "[encoded data removed]",
      "text/plain": [
       "<Figure size 432x288 with 1 Axes>"
      ]
     },
     "metadata": {
      "needs_background": "light"
     },
     "output_type": "display_data"
    }
   ],
   "source": [
    "cvec = CountVectorizer(stop_words=[\"english\"], min_df=3, ngram_range=(2,2))\n",
    "cvec.fit(plants['selftext'])\n",
    "plants_cv = cvec.transform(plants['selftext'])\n",
    "plants_df = pd.DataFrame(plants_cv.todense(), columns=cvec.get_feature_names_out())\n",
    "\n",
    "plants_df.sum().sort_values(ascending=False).head(15).plot(kind='barh');"
   ]
  },
  {
   "cell_type": "markdown",
   "id": "8cc3745d-bae6-4c13-ad80-08d9a5945269",
   "metadata": {},
   "source": [
    "### Looking at nutrition subreddit"
   ]
  },
  {
   "cell_type": "code",
   "execution_count": 45,
   "id": "cb938578-11fd-4c9c-b1e8-47037a0a9a40",
   "metadata": {},
   "outputs": [],
   "source": [
    "nutrition = clean_text[clean_text['label'] == 0]"
   ]
  },
  {
   "cell_type": "code",
   "execution_count": 46,
   "id": "db92f196-5cde-4d46-b7b3-83e5024937e6",
   "metadata": {},
   "outputs": [
    {
     "data": {
      "image/png": "[encoded data removed]",
      "text/plain": [
       "<Figure size 432x288 with 1 Axes>"
      ]
     },
     "metadata": {
      "needs_background": "light"
     },
     "output_type": "display_data"
    }
   ],
   "source": [
    "cvec = CountVectorizer(stop_words=[\"english\"], min_df=3, ngram_range=(1,3))\n",
    "cvec.fit(nutrition['selftext'])\n",
    "nutrition_cv = cvec.transform(nutrition['selftext'])\n",
    "nutrition_df = pd.DataFrame(nutrition_cv.todense(), columns=cvec.get_feature_names_out())\n",
    "\n",
    "nutrition_df.sum().sort_values(ascending=False).head(15).plot(kind='barh');"
   ]
  },
  {
   "cell_type": "code",
   "execution_count": 47,
   "id": "af9b79b2-43a6-4d07-b79f-7720b304051a",
   "metadata": {},
   "outputs": [
    {
     "data": {
      "image/png": "[encoded data removed]",
      "text/plain": [
       "<Figure size 432x288 with 1 Axes>"
      ]
     },
     "metadata": {
      "needs_background": "light"
     },
     "output_type": "display_data"
    }
   ],
   "source": [
    "cvec = CountVectorizer(stop_words=[\"english\"], min_df=3, ngram_range=(2,2))\n",
    "cvec.fit(nutrition['selftext'])\n",
    "nutrition_cv = cvec.transform(nutrition['selftext'])\n",
    "nutrition_df = pd.DataFrame(nutrition_cv.todense(), columns=cvec.get_feature_names_out())\n",
    "\n",
    "nutrition_df.sum().sort_values(ascending=False).head(15).plot(kind='barh');"
   ]
  },
  {
   "cell_type": "markdown",
   "id": "c40a4cc2-6928-4e27-8e9c-471bac176fef",
   "metadata": {},
   "source": [
    "## Modeling"
   ]
  },
  {
   "cell_type": "markdown",
   "id": "d2889008-f7d6-4e97-9601-5dfefa096924",
   "metadata": {},
   "source": [
    "Setting up data for modeling:\n",
    "    \n",
    "   - `X` will be the `selftext` column.\n",
    "   - `y` will be the `label` column."
   ]
  },
  {
   "cell_type": "code",
   "execution_count": 55,
   "id": "af70fe4e-cbff-4c41-8382-0360fd48e6c3",
   "metadata": {},
   "outputs": [
    {
     "name": "stderr",
     "output_type": "stream",
     "text": [
      "/Users/brianna/miniforge3/envs/tf/lib/python3.9/site-packages/pandas/core/frame.py:5039: SettingWithCopyWarning: \n",
      "A value is trying to be set on a copy of a slice from a DataFrame\n",
      "\n",
      "See the caveats in the documentation: https://pandas.pydata.org/pandas-docs/stable/user_guide/indexing.html#returning-a-view-versus-a-copy\n",
      "  return super().rename(\n"
     ]
    }
   ],
   "source": [
    "## re-naming the selftext column to clean_selftext so I can add it to the original DF to run models\n",
    "\n",
    "clean_text.rename(columns={'selftext':'cleaned_selftext'}, inplace=True)"
   ]
  },
  {
   "cell_type": "code",
   "execution_count": 56,
   "id": "32a2c7d3-3535-4ddf-b42c-7988304c5f6c",
   "metadata": {},
   "outputs": [],
   "source": [
    "X = clean_text['cleaned_selftext']\n",
    "y = clean_text['label']"
   ]
  },
  {
   "cell_type": "code",
   "execution_count": 57,
   "id": "7d5323cb-9e08-49fa-bd36-185535e9c0e1",
   "metadata": {},
   "outputs": [],
   "source": [
    "## remember to stratify y to keep porportions the same\n",
    "# Split the data into the training and testing sets.\n",
    "X_train, X_test, y_train, y_test = train_test_split(X,\n",
    "                                                    y,\n",
    "                                                    test_size=0.33,                            \n",
    "                                                    stratify=y,\n",
    "                                                    random_state=42)"
   ]
  },
  {
   "cell_type": "code",
   "execution_count": 3,
   "id": "85174cd2-fa5b-496f-aef8-a4eca05202d2",
   "metadata": {
    "scrolled": true,
    "tags": []
   },
   "outputs": [],
   "source": [
    "## setting up a pipeline\n",
    "\n",
    "cvec_pipe = Pipeline([\n",
    "    ('cvec', CountVectorizer()),\n",
    "    ('rf', RandomForestClassifier())\n",
    "])\n",
    "\n",
    "\n",
    "pipe_params_cvec= {\n",
    "        'cvec__max_features' : [2100],\n",
    "        'cvec__ngram_range' : [(1, 3)],\n",
    "        'cvec__min_df' : [5],\n",
    "        'rf__n_estimators': [70,80,90],\n",
    "        'rf__max_depth': [None,12,14,16,18],\n",
    "        'rf__ccp_alpha': [0],\n",
    "        'rf__min_samples_leaf':[1,5,10,20],\n",
    "        'rf__max_features':['auto','log2']\n",
    "        \n",
    "}\n",
    "\n",
    "\n",
    "# Instantiate GridSearchCV.\n",
    "gs_cvec= GridSearchCV(cvec_pipe,\n",
    "                      param_grid=pipe_params_cvec,\n",
    "                      cv=5,\n",
    "                      verbose=2)\n",
    "                      \n",
    "\n",
    "\n",
    "## commenting this out because the output is long\n",
    "#gs_cvec.fit(X_train, y_train)"
   ]
  },
  {
   "cell_type": "code",
   "execution_count": 59,
   "id": "c28b6ad0-8316-4743-b8ee-c727ade53c4e",
   "metadata": {},
   "outputs": [
    {
     "data": {
      "text/plain": [
       "0.8020113505784936"
      ]
     },
     "execution_count": 59,
     "metadata": {},
     "output_type": "execute_result"
    }
   ],
   "source": [
    "gs_cvec.best_score_"
   ]
  },
  {
   "cell_type": "code",
   "execution_count": 60,
   "id": "2422a613-c417-472d-b719-53696d680e49",
   "metadata": {},
   "outputs": [
    {
     "name": "stdout",
     "output_type": "stream",
     "text": [
      "0.9995814148179154\n"
     ]
    }
   ],
   "source": [
    "## Score model on training set. Model_1\n",
    "print(gs_cvec.score(X_train, y_train))"
   ]
  },
  {
   "cell_type": "code",
   "execution_count": 61,
   "id": "06561dd2-1307-4e83-99e8-df1c41b278a0",
   "metadata": {},
   "outputs": [
    {
     "name": "stdout",
     "output_type": "stream",
     "text": [
      "0.7969413763806287\n"
     ]
    }
   ],
   "source": [
    "## Score model on testing set. Model_1\n",
    "print(gs_cvec.score(X_test, y_test))"
   ]
  },
  {
   "cell_type": "code",
   "execution_count": 62,
   "id": "03a53dff-9f92-497f-b34b-39b88314247c",
   "metadata": {},
   "outputs": [
    {
     "data": {
      "text/plain": [
       "{'cvec__max_features': 2100,\n",
       " 'cvec__min_df': 5,\n",
       " 'cvec__ngram_range': (1, 3),\n",
       " 'rf__ccp_alpha': 0,\n",
       " 'rf__max_depth': None,\n",
       " 'rf__max_features': 'log2',\n",
       " 'rf__min_samples_leaf': 1,\n",
       " 'rf__n_estimators': 80}"
      ]
     },
     "execution_count": 62,
     "metadata": {},
     "output_type": "execute_result"
    }
   ],
   "source": [
    "## for model_1\n",
    "gs_cvec.best_params_"
   ]
  },
  {
   "cell_type": "code",
   "execution_count": 63,
   "id": "6b3eeb44-eff4-457d-a159-42eba0c497df",
   "metadata": {},
   "outputs": [],
   "source": [
    "#model_1\n",
    "d_clean_1 = {'predicted': gs_cvec.predict(X_test), 'actual':y_test}"
   ]
  },
  {
   "cell_type": "code",
   "execution_count": 64,
   "id": "bfe1a4f1-304e-43ce-828c-e978acc55c11",
   "metadata": {},
   "outputs": [
    {
     "data": {
      "text/html": [
       "<div>\n",
       "<style scoped>\n",
       "    .dataframe tbody tr th:only-of-type {\n",
       "        vertical-align: middle;\n",
       "    }\n",
       "\n",
       "    .dataframe tbody tr th {\n",
       "        vertical-align: top;\n",
       "    }\n",
       "\n",
       "    .dataframe thead th {\n",
       "        text-align: right;\n",
       "    }\n",
       "</style>\n",
       "<table border=\"1\" class=\"dataframe\">\n",
       "  <thead>\n",
       "    <tr style=\"text-align: right;\">\n",
       "      <th></th>\n",
       "      <th>predicted</th>\n",
       "      <th>actual</th>\n",
       "    </tr>\n",
       "  </thead>\n",
       "  <tbody>\n",
       "    <tr>\n",
       "      <th>1377</th>\n",
       "      <td>1</td>\n",
       "      <td>1</td>\n",
       "    </tr>\n",
       "    <tr>\n",
       "      <th>967</th>\n",
       "      <td>0</td>\n",
       "      <td>1</td>\n",
       "    </tr>\n",
       "    <tr>\n",
       "      <th>1546</th>\n",
       "      <td>1</td>\n",
       "      <td>1</td>\n",
       "    </tr>\n",
       "    <tr>\n",
       "      <th>898</th>\n",
       "      <td>0</td>\n",
       "      <td>1</td>\n",
       "    </tr>\n",
       "    <tr>\n",
       "      <th>284</th>\n",
       "      <td>0</td>\n",
       "      <td>0</td>\n",
       "    </tr>\n",
       "    <tr>\n",
       "      <th>...</th>\n",
       "      <td>...</td>\n",
       "      <td>...</td>\n",
       "    </tr>\n",
       "    <tr>\n",
       "      <th>1194</th>\n",
       "      <td>1</td>\n",
       "      <td>0</td>\n",
       "    </tr>\n",
       "    <tr>\n",
       "      <th>1832</th>\n",
       "      <td>0</td>\n",
       "      <td>0</td>\n",
       "    </tr>\n",
       "    <tr>\n",
       "      <th>26</th>\n",
       "      <td>1</td>\n",
       "      <td>0</td>\n",
       "    </tr>\n",
       "    <tr>\n",
       "      <th>283</th>\n",
       "      <td>0</td>\n",
       "      <td>0</td>\n",
       "    </tr>\n",
       "    <tr>\n",
       "      <th>1561</th>\n",
       "      <td>0</td>\n",
       "      <td>0</td>\n",
       "    </tr>\n",
       "  </tbody>\n",
       "</table>\n",
       "<p>1177 rows × 2 columns</p>\n",
       "</div>"
      ],
      "text/plain": [
       "      predicted  actual\n",
       "1377          1       1\n",
       "967           0       1\n",
       "1546          1       1\n",
       "898           0       1\n",
       "284           0       0\n",
       "...         ...     ...\n",
       "1194          1       0\n",
       "1832          0       0\n",
       "26            1       0\n",
       "283           0       0\n",
       "1561          0       0\n",
       "\n",
       "[1177 rows x 2 columns]"
      ]
     },
     "execution_count": 64,
     "metadata": {},
     "output_type": "execute_result"
    }
   ],
   "source": [
    "df_cleaned_1 = pd.DataFrame(data=d_clean_1)\n",
    "df_cleaned_1"
   ]
  },
  {
   "cell_type": "code",
   "execution_count": 65,
   "id": "7a61d3f1-56ca-4112-9a44-29acf82d651e",
   "metadata": {},
   "outputs": [
    {
     "data": {
      "text/html": [
       "<div>\n",
       "<style scoped>\n",
       "    .dataframe tbody tr th:only-of-type {\n",
       "        vertical-align: middle;\n",
       "    }\n",
       "\n",
       "    .dataframe tbody tr th {\n",
       "        vertical-align: top;\n",
       "    }\n",
       "\n",
       "    .dataframe thead th {\n",
       "        text-align: right;\n",
       "    }\n",
       "</style>\n",
       "<table border=\"1\" class=\"dataframe\">\n",
       "  <thead>\n",
       "    <tr style=\"text-align: right;\">\n",
       "      <th></th>\n",
       "      <th>predicted</th>\n",
       "      <th>actual</th>\n",
       "    </tr>\n",
       "  </thead>\n",
       "  <tbody>\n",
       "    <tr>\n",
       "      <th>967</th>\n",
       "      <td>0</td>\n",
       "      <td>1</td>\n",
       "    </tr>\n",
       "    <tr>\n",
       "      <th>898</th>\n",
       "      <td>0</td>\n",
       "      <td>1</td>\n",
       "    </tr>\n",
       "    <tr>\n",
       "      <th>1100</th>\n",
       "      <td>0</td>\n",
       "      <td>1</td>\n",
       "    </tr>\n",
       "    <tr>\n",
       "      <th>564</th>\n",
       "      <td>1</td>\n",
       "      <td>0</td>\n",
       "    </tr>\n",
       "    <tr>\n",
       "      <th>1026</th>\n",
       "      <td>0</td>\n",
       "      <td>1</td>\n",
       "    </tr>\n",
       "    <tr>\n",
       "      <th>...</th>\n",
       "      <td>...</td>\n",
       "      <td>...</td>\n",
       "    </tr>\n",
       "    <tr>\n",
       "      <th>281</th>\n",
       "      <td>0</td>\n",
       "      <td>1</td>\n",
       "    </tr>\n",
       "    <tr>\n",
       "      <th>1867</th>\n",
       "      <td>1</td>\n",
       "      <td>0</td>\n",
       "    </tr>\n",
       "    <tr>\n",
       "      <th>1337</th>\n",
       "      <td>1</td>\n",
       "      <td>0</td>\n",
       "    </tr>\n",
       "    <tr>\n",
       "      <th>1194</th>\n",
       "      <td>1</td>\n",
       "      <td>0</td>\n",
       "    </tr>\n",
       "    <tr>\n",
       "      <th>26</th>\n",
       "      <td>1</td>\n",
       "      <td>0</td>\n",
       "    </tr>\n",
       "  </tbody>\n",
       "</table>\n",
       "<p>239 rows × 2 columns</p>\n",
       "</div>"
      ],
      "text/plain": [
       "      predicted  actual\n",
       "967           0       1\n",
       "898           0       1\n",
       "1100          0       1\n",
       "564           1       0\n",
       "1026          0       1\n",
       "...         ...     ...\n",
       "281           0       1\n",
       "1867          1       0\n",
       "1337          1       0\n",
       "1194          1       0\n",
       "26            1       0\n",
       "\n",
       "[239 rows x 2 columns]"
      ]
     },
     "execution_count": 65,
     "metadata": {},
     "output_type": "execute_result"
    }
   ],
   "source": [
    "# Find all indices where predicted and true results aren't the same, then save in an array.\n",
    "incorrect_ids = df_cleaned_1[df_cleaned_1['predicted'] != df_cleaned_1['actual']]\n",
    "incorrect_ids"
   ]
  },
  {
   "cell_type": "markdown",
   "id": "6f52d0fb-0c12-457b-91a7-4db981faf981",
   "metadata": {},
   "source": [
    "### Second Model_Voting Classifier"
   ]
  },
  {
   "cell_type": "code",
   "execution_count": 66,
   "id": "c8168a3e-7a8f-4fc5-8b3b-b13dd2c5cdf8",
   "metadata": {},
   "outputs": [
    {
     "data": {
      "text/plain": [
       "CountVectorizer(max_features=2100, min_df=5)"
      ]
     },
     "execution_count": 66,
     "metadata": {},
     "output_type": "execute_result"
    }
   ],
   "source": [
    "cvec = CountVectorizer(max_features=2100, min_df= 5)\n",
    "cvec.fit(X_train)"
   ]
  },
  {
   "cell_type": "code",
   "execution_count": 67,
   "id": "462ae5f5-2bbc-4829-9e4e-924695a725f3",
   "metadata": {},
   "outputs": [],
   "source": [
    "X_train = cvec.transform(X_train)\n",
    "X_test = cvec.transform(X_test)"
   ]
  },
  {
   "cell_type": "code",
   "execution_count": 68,
   "id": "db6cf2a9-9cba-41d5-bd43-14fa8e003bbc",
   "metadata": {},
   "outputs": [],
   "source": [
    "log_clf = LogisticRegression(max_iter=5000)\n",
    "rnd_clf = RandomForestClassifier()\n",
    "svm_clf = SVC()"
   ]
  },
  {
   "cell_type": "code",
   "execution_count": 71,
   "id": "282b2997-b8ce-4578-8cb3-a393fce5a7eb",
   "metadata": {},
   "outputs": [
    {
     "name": "stdout",
     "output_type": "stream",
     "text": [
      "Fitting 3 folds for each of 200 candidates, totalling 600 fits\n"
     ]
    },
    {
     "data": {
      "text/plain": [
       "GridSearchCV(cv=3,\n",
       "             estimator=VotingClassifier(estimators=[('lr',\n",
       "                                                     LogisticRegression(max_iter=5000)),\n",
       "                                                    ('rf',\n",
       "                                                     RandomForestClassifier()),\n",
       "                                                    ('svc', SVC())]),\n",
       "             param_grid={'svc__C': array([0.01      , 0.11183673, 0.21367347, 0.3155102 , 0.41734694,\n",
       "       0.51918367, 0.62102041, 0.72285714, 0.82469388, 0.92653061,\n",
       "       1.02836735, 1.13020408, 1.23204082, 1.33387755, 1.43571429,\n",
       "       1.53755102, 1.63938...\n",
       "       2.04673469, 2.14857143, 2.25040816, 2.3522449 , 2.45408163,\n",
       "       2.55591837, 2.6577551 , 2.75959184, 2.86142857, 2.96326531,\n",
       "       3.06510204, 3.16693878, 3.26877551, 3.37061224, 3.47244898,\n",
       "       3.57428571, 3.67612245, 3.77795918, 3.87979592, 3.98163265,\n",
       "       4.08346939, 4.18530612, 4.28714286, 4.38897959, 4.49081633,\n",
       "       4.59265306, 4.6944898 , 4.79632653, 4.89816327, 5.        ]),\n",
       "                         'svc__degree': [1, 2],\n",
       "                         'svc__kernel': ['rbf', 'poly']},\n",
       "             verbose=1)"
      ]
     },
     "execution_count": 71,
     "metadata": {},
     "output_type": "execute_result"
    }
   ],
   "source": [
    "vote_clf = VotingClassifier([\n",
    "            ('lr', log_clf),\n",
    "            ('rf',rnd_clf), \n",
    "            ('svc', svm_clf)], voting='hard')\n",
    "\n",
    "params = {\n",
    "     'svc__C':np.linspace(0.01, 5),\n",
    "    'svc__kernel':['rbf', 'poly'],\n",
    "    'svc__degree':[1,2]\n",
    "}\n",
    "\n",
    "## Instantiate a GridSearch\n",
    "gs_vc = GridSearchCV(estimator=vote_clf, param_grid = params, cv=3, verbose=1)\n",
    "\n",
    "## Fit GS on training data.\n",
    "gs_vc.fit(X_train, y_train)"
   ]
  },
  {
   "cell_type": "code",
   "execution_count": 73,
   "id": "880ed34b-ebe8-44b0-96d1-ef6186913f48",
   "metadata": {},
   "outputs": [
    {
     "data": {
      "text/plain": [
       "0.8053604492558989"
      ]
     },
     "execution_count": 73,
     "metadata": {},
     "output_type": "execute_result"
    }
   ],
   "source": [
    "gs_vc.best_score_"
   ]
  },
  {
   "cell_type": "code",
   "execution_count": 74,
   "id": "04243f1c-93ab-4a6c-bb8f-85188d9b4350",
   "metadata": {},
   "outputs": [
    {
     "data": {
      "text/plain": [
       "0.9794893260778569"
      ]
     },
     "execution_count": 74,
     "metadata": {},
     "output_type": "execute_result"
    }
   ],
   "source": [
    "gs_vc.score(X_train, y_train)"
   ]
  },
  {
   "cell_type": "code",
   "execution_count": 75,
   "id": "5b5ae898-2e62-49b8-ae4f-c232d4f72915",
   "metadata": {},
   "outputs": [
    {
     "data": {
      "text/plain": [
       "0.816482582837723"
      ]
     },
     "execution_count": 75,
     "metadata": {},
     "output_type": "execute_result"
    }
   ],
   "source": [
    "gs_vc.score(X_test, y_test)"
   ]
  },
  {
   "cell_type": "code",
   "execution_count": 76,
   "id": "0263730c-1d04-4e69-b6bb-3df1c2b4f1cb",
   "metadata": {},
   "outputs": [
    {
     "data": {
      "text/plain": [
       "{'svc__C': 0.31551020408163266, 'svc__degree': 1, 'svc__kernel': 'poly'}"
      ]
     },
     "execution_count": 76,
     "metadata": {},
     "output_type": "execute_result"
    }
   ],
   "source": [
    "gs_vc.best_params_"
   ]
  },
  {
   "cell_type": "code",
   "execution_count": 80,
   "id": "62ff71b7-ce62-47b7-9305-a6b50ae29257",
   "metadata": {},
   "outputs": [
    {
     "name": "stdout",
     "output_type": "stream",
     "text": [
      "LogisticRegression(max_iter=5000): 0.8088360237892949\n",
      "RandomForestClassifier(): 0.8011894647408666\n",
      "SVC(): 0.7901444350042481\n"
     ]
    }
   ],
   "source": [
    "for clf in (log_clf, rnd_clf,svm_clf):\n",
    "    clf.fit(X_train,y_train)\n",
    "    y_pred = clf.predict(X_test)\n",
    "    print(f'{clf}: {accuracy_score(y_test,y_pred)}')"
   ]
  },
  {
   "cell_type": "code",
   "execution_count": 81,
   "id": "d0491176-b329-4df4-a045-7f0166fe443e",
   "metadata": {},
   "outputs": [],
   "source": [
    "cm = confusion_matrix(y_test, y_pred)\n",
    "tn, fp, fn, tp = cm.ravel()"
   ]
  },
  {
   "cell_type": "code",
   "execution_count": 82,
   "id": "c1fd0a35-bc1e-48ae-8846-76b54d012ff2",
   "metadata": {},
   "outputs": [
    {
     "name": "stdout",
     "output_type": "stream",
     "text": [
      "True Neg: 544\n",
      "False Pos: 88\n",
      "False Neg: 159\n",
      "True Pos: 386\n"
     ]
    }
   ],
   "source": [
    "print(f\"True Neg: {tn}\")\n",
    "print(f\"False Pos: {fp}\")\n",
    "print(f\"False Neg: {fn}\")\n",
    "print(f\"True Pos: {tp}\")"
   ]
  },
  {
   "cell_type": "code",
   "execution_count": 85,
   "id": "e1449a82-5bd5-4602-afc4-28547913f761",
   "metadata": {},
   "outputs": [],
   "source": [
    "from sklearn.metrics import ConfusionMatrixDisplay"
   ]
  },
  {
   "cell_type": "code",
   "execution_count": 91,
   "id": "9e443c5e-693f-4b77-a138-71cda182e781",
   "metadata": {},
   "outputs": [
    {
     "data": {
      "image/png": "[encoded data removed]",
      "text/plain": [
       "<Figure size 432x288 with 2 Axes>"
      ]
     },
     "metadata": {
      "needs_background": "light"
     },
     "output_type": "display_data"
    }
   ],
   "source": [
    "ConfusionMatrixDisplay.from_estimator(gs_vc,X_test,y_test,display_labels=['plant_based','nutrition'] );"
   ]
  }
 ],
 "metadata": {
  "kernelspec": {
   "display_name": "Python 3 (ipykernel)",
   "language": "python",
   "name": "python3"
  },
  "language_info": {
   "codemirror_mode": {
    "name": "ipython",
    "version": 3
   },
   "file_extension": ".py",
   "mimetype": "text/x-python",
   "name": "python",
   "nbconvert_exporter": "python",
   "pygments_lexer": "ipython3",
   "version": "3.9.7"
  }
 },
 "nbformat": 4,
 "nbformat_minor": 5
}
